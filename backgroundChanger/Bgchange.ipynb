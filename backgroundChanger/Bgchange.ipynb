{
  "cells": [
    {
      "cell_type": "code",
      "execution_count": 1,
      "metadata": {
        "id": "u_Tnfp3Nc462"
      },
      "outputs": [],
      "source": [
        "import cv2\n",
        "from rembg import remove\n",
        "import requests\n",
        "from PIL import Image \n",
        "from io import BytesIO\n",
        "import os "
      ]
    },
    {
      "cell_type": "code",
      "execution_count": 2,
      "metadata": {
        "id": "-hJkH7YBdShS"
      },
      "outputs": [],
      "source": [
        "os.makedirs('original', exist_ok=True)\n",
        "os.makedirs('masked', exist_ok=True)"
      ]
    },
    {
      "cell_type": "code",
      "execution_count": 3,
      "metadata": {
        "colab": {
          "base_uri": "https://localhost:8080/",
          "height": 36
        },
        "id": "Am7Kr8KQffTx",
        "outputId": "6c1cfcfd-280b-4100-f486-27dc271dbccd"
      },
      "outputs": [
        {
          "data": {
            "text/plain": [
              "'masked/person.jpg'"
            ]
          },
          "execution_count": 3,
          "metadata": {},
          "output_type": "execute_result"
        }
      ],
      "source": [
        "\n",
        "# now here we remove bg\n",
        "img_address= 'D:\\django task\\i\\original/person.jpg'\n",
        "# img_name = 'person.jpg'\n",
        "img_name = img_address.split('/')[-1]\n",
        "output_path = 'masked/'+img_name \n",
        "output_path"
      ]
    },
    {
      "cell_type": "code",
      "execution_count": 4,
      "metadata": {
        "id": "nW2qeE8OhxmB"
      },
      "outputs": [
        {
          "ename": "MemoryError",
          "evalue": "Unable to allocate 6.73 GiB for an array with shape (36152320, 5, 5) and data type float64",
          "output_type": "error",
          "traceback": [
            "\u001b[1;31m---------------------------------------------------------------------------\u001b[0m",
            "\u001b[1;31mMemoryError\u001b[0m                               Traceback (most recent call last)",
            "Cell \u001b[1;32mIn[4], line 3\u001b[0m\n\u001b[0;32m      1\u001b[0m \u001b[39mwith\u001b[39;00m \u001b[39mopen\u001b[39m(output_path, \u001b[39m'\u001b[39m\u001b[39mwb\u001b[39m\u001b[39m'\u001b[39m) \u001b[39mas\u001b[39;00m f:\n\u001b[0;32m      2\u001b[0m   \u001b[39minput\u001b[39m \u001b[39m=\u001b[39m \u001b[39mopen\u001b[39m(\u001b[39m'\u001b[39m\u001b[39moriginal/\u001b[39m\u001b[39m'\u001b[39m\u001b[39m+\u001b[39mimg_name, \u001b[39m'\u001b[39m\u001b[39mrb\u001b[39m\u001b[39m'\u001b[39m)\u001b[39m.\u001b[39mread()\n\u001b[1;32m----> 3\u001b[0m   subject \u001b[39m=\u001b[39m remove(\u001b[39minput\u001b[39;49m, alpha_matting\u001b[39m=\u001b[39;49m\u001b[39mTrue\u001b[39;49;00m, alpha_matting_foreground_threshold\u001b[39m=\u001b[39;49m\u001b[39m70\u001b[39;49m)\n\u001b[0;32m      4\u001b[0m   f\u001b[39m.\u001b[39mwrite(subject)\n",
            "File \u001b[1;32md:\\django task\\i\\veniroment\\lib\\site-packages\\rembg\\bg.py:154\u001b[0m, in \u001b[0;36mremove\u001b[1;34m(data, alpha_matting, alpha_matting_foreground_threshold, alpha_matting_background_threshold, alpha_matting_erode_size, session, only_mask, post_process_mask, bgcolor)\u001b[0m\n\u001b[0;32m    152\u001b[0m \u001b[39melif\u001b[39;00m alpha_matting:\n\u001b[0;32m    153\u001b[0m     \u001b[39mtry\u001b[39;00m:\n\u001b[1;32m--> 154\u001b[0m         cutout \u001b[39m=\u001b[39m alpha_matting_cutout(\n\u001b[0;32m    155\u001b[0m             img,\n\u001b[0;32m    156\u001b[0m             mask,\n\u001b[0;32m    157\u001b[0m             alpha_matting_foreground_threshold,\n\u001b[0;32m    158\u001b[0m             alpha_matting_background_threshold,\n\u001b[0;32m    159\u001b[0m             alpha_matting_erode_size,\n\u001b[0;32m    160\u001b[0m         )\n\u001b[0;32m    161\u001b[0m     \u001b[39mexcept\u001b[39;00m \u001b[39mValueError\u001b[39;00m:\n\u001b[0;32m    162\u001b[0m         cutout \u001b[39m=\u001b[39m naive_cutout(img, mask)\n",
            "File \u001b[1;32md:\\django task\\i\\veniroment\\lib\\site-packages\\rembg\\bg.py:65\u001b[0m, in \u001b[0;36malpha_matting_cutout\u001b[1;34m(img, mask, foreground_threshold, background_threshold, erode_structure_size)\u001b[0m\n\u001b[0;32m     62\u001b[0m img_normalized \u001b[39m=\u001b[39m img \u001b[39m/\u001b[39m \u001b[39m255.0\u001b[39m\n\u001b[0;32m     63\u001b[0m trimap_normalized \u001b[39m=\u001b[39m trimap \u001b[39m/\u001b[39m \u001b[39m255.0\u001b[39m\n\u001b[1;32m---> 65\u001b[0m alpha \u001b[39m=\u001b[39m estimate_alpha_cf(img_normalized, trimap_normalized)\n\u001b[0;32m     66\u001b[0m foreground \u001b[39m=\u001b[39m estimate_foreground_ml(img_normalized, alpha)\n\u001b[0;32m     67\u001b[0m cutout \u001b[39m=\u001b[39m stack_images(foreground, alpha)\n",
            "File \u001b[1;32md:\\django task\\i\\veniroment\\lib\\site-packages\\pymatting\\alpha\\estimate_alpha_cf.py:55\u001b[0m, in \u001b[0;36mestimate_alpha_cf\u001b[1;34m(image, trimap, preconditioner, laplacian_kwargs, cg_kwargs)\u001b[0m\n\u001b[0;32m     51\u001b[0m h, w \u001b[39m=\u001b[39m trimap\u001b[39m.\u001b[39mshape[:\u001b[39m2\u001b[39m]\n\u001b[0;32m     53\u001b[0m is_fg, is_bg, is_known, is_unknown \u001b[39m=\u001b[39m trimap_split(trimap)\n\u001b[1;32m---> 55\u001b[0m L \u001b[39m=\u001b[39m cf_laplacian(image, \u001b[39m*\u001b[39m\u001b[39m*\u001b[39mlaplacian_kwargs, is_known\u001b[39m=\u001b[39mis_known)\n\u001b[0;32m     57\u001b[0m \u001b[39m# Split Laplacian matrix L into\u001b[39;00m\n\u001b[0;32m     58\u001b[0m \u001b[39m#\u001b[39;00m\n\u001b[0;32m     59\u001b[0m \u001b[39m#     [L_U   R ]\u001b[39;00m\n\u001b[1;32m   (...)\u001b[0m\n\u001b[0;32m     63\u001b[0m \u001b[39m# fixed pixels and U (is_unknown) corresponds to unknown pixels. For reference, see\u001b[39;00m\n\u001b[0;32m     64\u001b[0m \u001b[39m# Grady, Leo, et al. \"Random walks for interactive alpha-matting.\" Proceedings of VIIP. Vol. 2005. 2005.\u001b[39;00m\n\u001b[0;32m     66\u001b[0m L_U \u001b[39m=\u001b[39m L[is_unknown, :][:, is_unknown]\n",
            "File \u001b[1;32md:\\django task\\i\\veniroment\\lib\\site-packages\\pymatting\\laplacian\\cf_laplacian.py:166\u001b[0m, in \u001b[0;36mcf_laplacian\u001b[1;34m(image, epsilon, radius, is_known)\u001b[0m\n\u001b[0;32m    164\u001b[0m indptr \u001b[39m=\u001b[39m np\u001b[39m.\u001b[39mzeros(n \u001b[39m+\u001b[39m \u001b[39m1\u001b[39m, dtype\u001b[39m=\u001b[39mnp\u001b[39m.\u001b[39mint64)\n\u001b[0;32m    165\u001b[0m indices \u001b[39m=\u001b[39m np\u001b[39m.\u001b[39mzeros(n \u001b[39m*\u001b[39m (\u001b[39m4\u001b[39m \u001b[39m*\u001b[39m radius \u001b[39m+\u001b[39m \u001b[39m1\u001b[39m) \u001b[39m*\u001b[39m\u001b[39m*\u001b[39m \u001b[39m2\u001b[39m, dtype\u001b[39m=\u001b[39mnp\u001b[39m.\u001b[39mint64)\n\u001b[1;32m--> 166\u001b[0m values \u001b[39m=\u001b[39m np\u001b[39m.\u001b[39;49mzeros((n, \u001b[39m4\u001b[39;49m \u001b[39m*\u001b[39;49m radius \u001b[39m+\u001b[39;49m \u001b[39m1\u001b[39;49m, \u001b[39m4\u001b[39;49m \u001b[39m*\u001b[39;49m radius \u001b[39m+\u001b[39;49m \u001b[39m1\u001b[39;49m), dtype\u001b[39m=\u001b[39;49mnp\u001b[39m.\u001b[39;49mfloat64)\n\u001b[0;32m    168\u001b[0m _cf_laplacian(image, epsilon, radius, values, indices, indptr, is_known)\n\u001b[0;32m    170\u001b[0m L \u001b[39m=\u001b[39m scipy\u001b[39m.\u001b[39msparse\u001b[39m.\u001b[39mcsr_matrix((values\u001b[39m.\u001b[39mravel(), indices, indptr), (n, n))\n",
            "\u001b[1;31mMemoryError\u001b[0m: Unable to allocate 6.73 GiB for an array with shape (36152320, 5, 5) and data type float64"
          ]
        }
      ],
      "source": [
        "\n",
        "with open(output_path, 'wb') as f:\n",
        "  input = open('original/'+img_name, 'rb').read()\n",
        "  subject = remove(input, alpha_matting=True, alpha_matting_foreground_threshold=70)\n",
        "  f.write(subject)"
      ]
    },
    {
      "cell_type": "code",
      "execution_count": null,
      "metadata": {
        "id": "K2_VQmZzieiy"
      },
      "outputs": [],
      "source": [
        "background_img = Image.open('D:\\django task\\i\\original/background.jpg')\n",
        "realimage = Image.open('D:\\django task\\i\\original/person.jpg')\n",
        "\n",
        "background_img = background_img.resize((realimage.width, realimage.height)) \n",
        "\n",
        "foreground_img = Image.open('D:\\django task\\i\\masked/person.jpg')\n",
        "background_img.paste(foreground_img, (0,0), foreground_img)\n",
        "background_img.save('D:\\django task\\i\\masked/result.png', format='png')"
      ]
    },
    {
      "cell_type": "code",
      "execution_count": null,
      "metadata": {},
      "outputs": [],
      "source": []
    }
  ],
  "metadata": {
    "colab": {
      "provenance": []
    },
    "kernelspec": {
      "display_name": "Python 3",
      "name": "python3"
    },
    "language_info": {
      "codemirror_mode": {
        "name": "ipython",
        "version": 3
      },
      "file_extension": ".py",
      "mimetype": "text/x-python",
      "name": "python",
      "nbconvert_exporter": "python",
      "pygments_lexer": "ipython3",
      "version": "3.10.0"
    }
  },
  "nbformat": 4,
  "nbformat_minor": 0
}
